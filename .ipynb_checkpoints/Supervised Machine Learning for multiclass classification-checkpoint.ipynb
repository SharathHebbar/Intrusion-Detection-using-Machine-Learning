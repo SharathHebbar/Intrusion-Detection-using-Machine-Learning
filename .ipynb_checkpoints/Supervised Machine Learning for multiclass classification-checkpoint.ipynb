{
 "cells": [
  {
   "cell_type": "markdown",
   "id": "b0daad8d",
   "metadata": {},
   "source": [
    "### Importing libraries"
   ]
  },
  {
   "cell_type": "code",
   "execution_count": 1,
   "id": "60da2678",
   "metadata": {},
   "outputs": [],
   "source": [
    "import pandas as pd\n",
    "import numpy as np"
   ]
  },
  {
   "cell_type": "markdown",
   "id": "c627999d",
   "metadata": {},
   "source": [
    "### Loading datasets"
   ]
  },
  {
   "cell_type": "code",
   "execution_count": 2,
   "id": "1403f54a",
   "metadata": {},
   "outputs": [],
   "source": [
    "\n",
    "train_data_multi = pd.read_csv('train_multi_scaled.csv')\n",
    "\n",
    "test_data_multi = pd.read_csv('test_multi_scaled.csv')\n",
    "\n",
    "test21_data_multi = pd.read_csv('test21_multi_scaled.csv')\n"
   ]
  },
  {
   "cell_type": "markdown",
   "id": "34a0abac",
   "metadata": {},
   "source": [
    "### Splitting the given values into train test"
   ]
  },
  {
   "cell_type": "code",
   "execution_count": 3,
   "id": "e1d1cb67",
   "metadata": {},
   "outputs": [],
   "source": [
    "x_train =  train_data_multi.iloc[:,0:-1].values\n",
    "y_train_m =  train_data_multi.iloc[:,-1].values\n",
    "\n",
    "x_test =  test_data_multi.iloc[:,0:-1].values\n",
    "\n",
    "y_test_m =  test_data_multi.iloc[:,-1].values\n",
    "\n",
    "x_test21 =  test21_data_multi.iloc[:,0:-1].values\n",
    "\n",
    "y_test21_m =  test21_data_multi.iloc[:,-1].values\n"
   ]
  },
  {
   "cell_type": "markdown",
   "id": "4819cdf1",
   "metadata": {},
   "source": [
    "# Applying Machine Learning Algorithms"
   ]
  },
  {
   "cell_type": "markdown",
   "id": "3ced5dd4",
   "metadata": {},
   "source": [
    "## Bernoulli Naive Bayes"
   ]
  },
  {
   "cell_type": "code",
   "execution_count": 4,
   "id": "6c0ffe01",
   "metadata": {},
   "outputs": [],
   "source": [
    "from sklearn.naive_bayes import BernoulliNB\n",
    "bnb = BernoulliNB()"
   ]
  },
  {
   "cell_type": "code",
   "execution_count": 5,
   "id": "4bd1216e",
   "metadata": {},
   "outputs": [
    {
     "data": {
      "text/plain": [
       "BernoulliNB()"
      ]
     },
     "execution_count": 5,
     "metadata": {},
     "output_type": "execute_result"
    }
   ],
   "source": [
    "bnb.fit(x_train,y_train_m)"
   ]
  },
  {
   "cell_type": "markdown",
   "id": "a1dc0228",
   "metadata": {},
   "source": [
    "#### Training accuracy"
   ]
  },
  {
   "cell_type": "code",
   "execution_count": 6,
   "id": "1c3d38fa",
   "metadata": {},
   "outputs": [
    {
     "data": {
      "text/plain": [
       "0.8153175680502965"
      ]
     },
     "execution_count": 6,
     "metadata": {},
     "output_type": "execute_result"
    }
   ],
   "source": [
    "bnb.score(x_train,y_train_m)"
   ]
  },
  {
   "cell_type": "markdown",
   "id": "9a3dbbd0",
   "metadata": {},
   "source": [
    "#### Testing accuracy"
   ]
  },
  {
   "cell_type": "code",
   "execution_count": 7,
   "id": "98db7332",
   "metadata": {},
   "outputs": [
    {
     "data": {
      "text/plain": [
       "0.6114265436479773"
      ]
     },
     "execution_count": 7,
     "metadata": {},
     "output_type": "execute_result"
    }
   ],
   "source": [
    "bnb.score(x_test,y_test_m)"
   ]
  },
  {
   "cell_type": "markdown",
   "id": "c53a885d",
   "metadata": {},
   "source": [
    "#### Testing21 accuracy"
   ]
  },
  {
   "cell_type": "code",
   "execution_count": 8,
   "id": "f15ce337",
   "metadata": {},
   "outputs": [
    {
     "data": {
      "text/plain": [
       "0.4366244725738397"
      ]
     },
     "execution_count": 8,
     "metadata": {},
     "output_type": "execute_result"
    }
   ],
   "source": [
    "bnb.score(x_test21,y_test21_m)"
   ]
  },
  {
   "cell_type": "markdown",
   "id": "8e069f0f",
   "metadata": {},
   "source": [
    "## Multinomial Naive Bayes"
   ]
  },
  {
   "cell_type": "code",
   "execution_count": 9,
   "id": "fca5675a",
   "metadata": {},
   "outputs": [],
   "source": [
    "from sklearn.naive_bayes import MultinomialNB\n",
    "mnb = MultinomialNB()"
   ]
  },
  {
   "cell_type": "code",
   "execution_count": 10,
   "id": "844d256c",
   "metadata": {},
   "outputs": [
    {
     "data": {
      "text/plain": [
       "MultinomialNB()"
      ]
     },
     "execution_count": 10,
     "metadata": {},
     "output_type": "execute_result"
    }
   ],
   "source": [
    "mnb.fit(x_train,y_train_m)"
   ]
  },
  {
   "cell_type": "markdown",
   "id": "12f4d9cd",
   "metadata": {},
   "source": [
    "#### Training accuracy"
   ]
  },
  {
   "cell_type": "code",
   "execution_count": 11,
   "id": "33de5c6b",
   "metadata": {},
   "outputs": [
    {
     "data": {
      "text/plain": [
       "0.41776412405832997"
      ]
     },
     "execution_count": 11,
     "metadata": {},
     "output_type": "execute_result"
    }
   ],
   "source": [
    "mnb.score(x_train,y_train_m)"
   ]
  },
  {
   "cell_type": "markdown",
   "id": "497bd94d",
   "metadata": {},
   "source": [
    "#### Testing accuracy"
   ]
  },
  {
   "cell_type": "code",
   "execution_count": 12,
   "id": "deb184b8",
   "metadata": {},
   "outputs": [
    {
     "data": {
      "text/plain": [
       "0.32687189496096525"
      ]
     },
     "execution_count": 12,
     "metadata": {},
     "output_type": "execute_result"
    }
   ],
   "source": [
    "mnb.score(x_test,y_test_m)"
   ]
  },
  {
   "cell_type": "markdown",
   "id": "264a7de3",
   "metadata": {},
   "source": [
    "#### Testing21 accuracy"
   ]
  },
  {
   "cell_type": "code",
   "execution_count": 13,
   "id": "e27dacb4",
   "metadata": {},
   "outputs": [
    {
     "data": {
      "text/plain": [
       "0.28345991561181433"
      ]
     },
     "execution_count": 13,
     "metadata": {},
     "output_type": "execute_result"
    }
   ],
   "source": [
    "mnb.score(x_test21,y_test21_m)"
   ]
  },
  {
   "cell_type": "markdown",
   "id": "f8647e92",
   "metadata": {},
   "source": [
    "## Random Forest"
   ]
  },
  {
   "cell_type": "code",
   "execution_count": 14,
   "id": "cd8dd9fc",
   "metadata": {},
   "outputs": [],
   "source": [
    "from sklearn.ensemble import RandomForestClassifier\n",
    "rfc = RandomForestClassifier()"
   ]
  },
  {
   "cell_type": "code",
   "execution_count": 15,
   "id": "d70c2660",
   "metadata": {},
   "outputs": [
    {
     "data": {
      "text/plain": [
       "RandomForestClassifier()"
      ]
     },
     "execution_count": 15,
     "metadata": {},
     "output_type": "execute_result"
    }
   ],
   "source": [
    "rfc.fit(x_train,y_train_m)"
   ]
  },
  {
   "cell_type": "markdown",
   "id": "e913c156",
   "metadata": {},
   "source": [
    "#### Training accuracy"
   ]
  },
  {
   "cell_type": "code",
   "execution_count": 16,
   "id": "5b79700d",
   "metadata": {},
   "outputs": [
    {
     "data": {
      "text/plain": [
       "0.999944432537131"
      ]
     },
     "execution_count": 16,
     "metadata": {},
     "output_type": "execute_result"
    }
   ],
   "source": [
    "rfc.score(x_train,y_train_m)"
   ]
  },
  {
   "cell_type": "markdown",
   "id": "05bef042",
   "metadata": {},
   "source": [
    "#### Testing accuracy"
   ]
  },
  {
   "cell_type": "code",
   "execution_count": 17,
   "id": "b435583d",
   "metadata": {},
   "outputs": [
    {
     "data": {
      "text/plain": [
       "0.7461852377572746"
      ]
     },
     "execution_count": 17,
     "metadata": {},
     "output_type": "execute_result"
    }
   ],
   "source": [
    "rfc.score(x_test,y_test_m)"
   ]
  },
  {
   "cell_type": "markdown",
   "id": "03f50936",
   "metadata": {},
   "source": [
    "#### Testing21 accuracy"
   ]
  },
  {
   "cell_type": "code",
   "execution_count": 18,
   "id": "98b3b744",
   "metadata": {},
   "outputs": [
    {
     "data": {
      "text/plain": [
       "0.5176371308016877"
      ]
     },
     "execution_count": 18,
     "metadata": {},
     "output_type": "execute_result"
    }
   ],
   "source": [
    "rfc.score(x_test21,y_test21_m)"
   ]
  },
  {
   "cell_type": "code",
   "execution_count": null,
   "id": "50efa5a9",
   "metadata": {},
   "outputs": [],
   "source": []
  },
  {
   "cell_type": "code",
   "execution_count": null,
   "id": "4ca4c2b1",
   "metadata": {},
   "outputs": [],
   "source": []
  },
  {
   "cell_type": "code",
   "execution_count": null,
   "id": "feec7a93",
   "metadata": {},
   "outputs": [],
   "source": []
  },
  {
   "cell_type": "code",
   "execution_count": null,
   "id": "46a0d54b",
   "metadata": {},
   "outputs": [],
   "source": []
  },
  {
   "cell_type": "code",
   "execution_count": null,
   "id": "72fe07b6",
   "metadata": {},
   "outputs": [],
   "source": []
  },
  {
   "cell_type": "code",
   "execution_count": null,
   "id": "b1dcff74",
   "metadata": {},
   "outputs": [],
   "source": []
  },
  {
   "cell_type": "code",
   "execution_count": null,
   "id": "a8d1bc46",
   "metadata": {},
   "outputs": [],
   "source": []
  },
  {
   "cell_type": "code",
   "execution_count": null,
   "id": "919f6453",
   "metadata": {},
   "outputs": [],
   "source": []
  },
  {
   "cell_type": "code",
   "execution_count": null,
   "id": "98d65251",
   "metadata": {},
   "outputs": [],
   "source": []
  },
  {
   "cell_type": "code",
   "execution_count": null,
   "id": "4769f1bd",
   "metadata": {},
   "outputs": [],
   "source": []
  },
  {
   "cell_type": "code",
   "execution_count": null,
   "id": "1d1feae0",
   "metadata": {},
   "outputs": [],
   "source": []
  },
  {
   "cell_type": "code",
   "execution_count": null,
   "id": "b356014a",
   "metadata": {},
   "outputs": [],
   "source": []
  },
  {
   "cell_type": "code",
   "execution_count": null,
   "id": "04a8b34f",
   "metadata": {},
   "outputs": [],
   "source": []
  },
  {
   "cell_type": "code",
   "execution_count": null,
   "id": "a541ed24",
   "metadata": {},
   "outputs": [],
   "source": []
  }
 ],
 "metadata": {
  "kernelspec": {
   "display_name": "Python 3 (ipykernel)",
   "language": "python",
   "name": "python3"
  },
  "language_info": {
   "codemirror_mode": {
    "name": "ipython",
    "version": 3
   },
   "file_extension": ".py",
   "mimetype": "text/x-python",
   "name": "python",
   "nbconvert_exporter": "python",
   "pygments_lexer": "ipython3",
   "version": "3.9.6"
  }
 },
 "nbformat": 4,
 "nbformat_minor": 5
}
