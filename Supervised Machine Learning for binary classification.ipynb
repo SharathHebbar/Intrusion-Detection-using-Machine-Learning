{
 "cells": [
  {
   "cell_type": "markdown",
   "id": "49215db0",
   "metadata": {},
   "source": [
    "### Importing libraries"
   ]
  },
  {
   "cell_type": "code",
   "execution_count": 3,
   "id": "066db3d7",
   "metadata": {},
   "outputs": [],
   "source": [
    "import pandas as pd\n",
    "import numpy as np"
   ]
  },
  {
   "cell_type": "markdown",
   "id": "f9cc6b0d",
   "metadata": {},
   "source": [
    "### Loading datasets"
   ]
  },
  {
   "cell_type": "code",
   "execution_count": 4,
   "id": "2c796774",
   "metadata": {},
   "outputs": [],
   "source": [
    "train_data_binary = pd.read_csv('train_binary_scaled.csv')\n",
    "\n",
    "test_data_binary = pd.read_csv('test_binary_scaled.csv')\n",
    "\n",
    "test21_data_binary = pd.read_csv('test21_binary_scaled.csv')\n"
   ]
  },
  {
   "cell_type": "markdown",
   "id": "5a582eec",
   "metadata": {},
   "source": [
    "### Splitting the given values into train test"
   ]
  },
  {
   "cell_type": "code",
   "execution_count": 5,
   "id": "95a0f12a",
   "metadata": {},
   "outputs": [],
   "source": [
    "x_train =  train_data_binary.iloc[:,0:-1].values\n",
    "y_train_b =  train_data_binary.iloc[:,-1].values\n",
    "\n",
    "x_test =  test_data_binary.iloc[:,0:-1].values\n",
    "y_test_b =  test_data_binary.iloc[:,-1].values\n",
    "\n",
    "x_test21 =  test21_data_binary.iloc[:,0:-1].values\n",
    "y_test21_b =  test21_data_binary.iloc[:,-1].values\n"
   ]
  },
  {
   "cell_type": "markdown",
   "id": "ba6002fd",
   "metadata": {},
   "source": [
    "# Applying Machine Learning Algorithms"
   ]
  },
  {
   "cell_type": "markdown",
   "id": "188764ae",
   "metadata": {},
   "source": [
    "## Bernoulli Naive Bayes"
   ]
  },
  {
   "cell_type": "code",
   "execution_count": 18,
   "id": "876f9cfa",
   "metadata": {},
   "outputs": [],
   "source": [
    "from sklearn.naive_bayes import BernoulliNB\n",
    "bnb = BernoulliNB()"
   ]
  },
  {
   "cell_type": "code",
   "execution_count": 19,
   "id": "d8722852",
   "metadata": {},
   "outputs": [
    {
     "data": {
      "text/plain": [
       "BernoulliNB()"
      ]
     },
     "execution_count": 19,
     "metadata": {},
     "output_type": "execute_result"
    }
   ],
   "source": [
    "bnb.fit(x_train,y_train_b)"
   ]
  },
  {
   "cell_type": "markdown",
   "id": "24db7bd2",
   "metadata": {},
   "source": [
    "#### Training accuracy"
   ]
  },
  {
   "cell_type": "code",
   "execution_count": 21,
   "id": "15637801",
   "metadata": {},
   "outputs": [
    {
     "data": {
      "text/plain": [
       "0.8948822366697625"
      ]
     },
     "execution_count": 21,
     "metadata": {},
     "output_type": "execute_result"
    }
   ],
   "source": [
    "bnb.score(x_train,y_train_b)"
   ]
  },
  {
   "cell_type": "markdown",
   "id": "a09be745",
   "metadata": {},
   "source": [
    "#### Testing accuracy"
   ]
  },
  {
   "cell_type": "code",
   "execution_count": 20,
   "id": "3cf4a3b0",
   "metadata": {},
   "outputs": [
    {
     "data": {
      "text/plain": [
       "0.7669889992902768"
      ]
     },
     "execution_count": 20,
     "metadata": {},
     "output_type": "execute_result"
    }
   ],
   "source": [
    "bnb.score(x_test,y_test_b)"
   ]
  },
  {
   "cell_type": "markdown",
   "id": "f344d800",
   "metadata": {},
   "source": [
    "#### Testing21 accuracy"
   ]
  },
  {
   "cell_type": "code",
   "execution_count": 22,
   "id": "d803b9af",
   "metadata": {},
   "outputs": [
    {
     "data": {
      "text/plain": [
       "0.5609282700421941"
      ]
     },
     "execution_count": 22,
     "metadata": {},
     "output_type": "execute_result"
    }
   ],
   "source": [
    "bnb.score(x_test21,y_test21_b)"
   ]
  },
  {
   "cell_type": "markdown",
   "id": "67f91983",
   "metadata": {},
   "source": [
    "## Multinomial Naive Bayes"
   ]
  },
  {
   "cell_type": "code",
   "execution_count": 24,
   "id": "ab9944a4",
   "metadata": {},
   "outputs": [],
   "source": [
    "from sklearn.naive_bayes import MultinomialNB\n",
    "mnb = MultinomialNB()"
   ]
  },
  {
   "cell_type": "code",
   "execution_count": 25,
   "id": "5ada48d4",
   "metadata": {},
   "outputs": [
    {
     "data": {
      "text/plain": [
       "MultinomialNB()"
      ]
     },
     "execution_count": 25,
     "metadata": {},
     "output_type": "execute_result"
    }
   ],
   "source": [
    "mnb.fit(x_train,y_train_b)"
   ]
  },
  {
   "cell_type": "markdown",
   "id": "c9f293e4",
   "metadata": {},
   "source": [
    "#### Training accuracy"
   ]
  },
  {
   "cell_type": "code",
   "execution_count": 26,
   "id": "9cc04253",
   "metadata": {},
   "outputs": [
    {
     "data": {
      "text/plain": [
       "0.4563358814984163"
      ]
     },
     "execution_count": 26,
     "metadata": {},
     "output_type": "execute_result"
    }
   ],
   "source": [
    "mnb.score(x_train,y_train_b)"
   ]
  },
  {
   "cell_type": "markdown",
   "id": "05cc52bf",
   "metadata": {},
   "source": [
    "#### Testing accuracy"
   ]
  },
  {
   "cell_type": "code",
   "execution_count": 27,
   "id": "8ea41b57",
   "metadata": {},
   "outputs": [
    {
     "data": {
      "text/plain": [
       "0.35690205819730303"
      ]
     },
     "execution_count": 27,
     "metadata": {},
     "output_type": "execute_result"
    }
   ],
   "source": [
    "mnb.score(x_test,y_test_b)"
   ]
  },
  {
   "cell_type": "markdown",
   "id": "3ec64168",
   "metadata": {},
   "source": [
    "#### Testing21 accuracy"
   ]
  },
  {
   "cell_type": "code",
   "execution_count": 28,
   "id": "e34f5085",
   "metadata": {},
   "outputs": [
    {
     "data": {
      "text/plain": [
       "0.18092827004219408"
      ]
     },
     "execution_count": 28,
     "metadata": {},
     "output_type": "execute_result"
    }
   ],
   "source": [
    "mnb.score(x_test21,y_test21_b)"
   ]
  },
  {
   "cell_type": "markdown",
   "id": "bba048f4",
   "metadata": {},
   "source": [
    "## Random Forest"
   ]
  },
  {
   "cell_type": "code",
   "execution_count": 13,
   "id": "783016e4",
   "metadata": {},
   "outputs": [],
   "source": [
    "from sklearn.ensemble import RandomForestClassifier\n",
    "rfc = RandomForestClassifier()"
   ]
  },
  {
   "cell_type": "code",
   "execution_count": 14,
   "id": "8a07fb66",
   "metadata": {},
   "outputs": [
    {
     "data": {
      "text/plain": [
       "RandomForestClassifier()"
      ]
     },
     "execution_count": 14,
     "metadata": {},
     "output_type": "execute_result"
    }
   ],
   "source": [
    "rfc.fit(x_train,y_train_b)"
   ]
  },
  {
   "cell_type": "markdown",
   "id": "b762bf6e",
   "metadata": {},
   "source": [
    "#### Training accuracy"
   ]
  },
  {
   "cell_type": "code",
   "execution_count": 17,
   "id": "b1dac800",
   "metadata": {},
   "outputs": [
    {
     "data": {
      "text/plain": [
       "0.999944432537131"
      ]
     },
     "execution_count": 17,
     "metadata": {},
     "output_type": "execute_result"
    }
   ],
   "source": [
    "rfc.score(x_train,y_train_b)"
   ]
  },
  {
   "cell_type": "markdown",
   "id": "86ca9419",
   "metadata": {},
   "source": [
    "#### Testing accuracy"
   ]
  },
  {
   "cell_type": "code",
   "execution_count": 15,
   "id": "af085b42",
   "metadata": {},
   "outputs": [
    {
     "data": {
      "text/plain": [
       "0.7685858765081618"
      ]
     },
     "execution_count": 15,
     "metadata": {},
     "output_type": "execute_result"
    }
   ],
   "source": [
    "rfc.score(x_test,y_test_b)"
   ]
  },
  {
   "cell_type": "markdown",
   "id": "28f8df83",
   "metadata": {},
   "source": [
    "#### Testing21 accuracy"
   ]
  },
  {
   "cell_type": "code",
   "execution_count": 16,
   "id": "26b20b9a",
   "metadata": {},
   "outputs": [
    {
     "data": {
      "text/plain": [
       "0.560337552742616"
      ]
     },
     "execution_count": 16,
     "metadata": {},
     "output_type": "execute_result"
    }
   ],
   "source": [
    "rfc.score(x_test21,y_test21_b)"
   ]
  },
  {
   "cell_type": "markdown",
   "id": "b902b1ae",
   "metadata": {},
   "source": [
    "## Decision Tree Classifier"
   ]
  },
  {
   "cell_type": "markdown",
   "id": "d2346c22",
   "metadata": {},
   "source": [
    "## Logistic Regression"
   ]
  },
  {
   "cell_type": "markdown",
   "id": "7971f511",
   "metadata": {},
   "source": [
    "## KNN"
   ]
  },
  {
   "cell_type": "markdown",
   "id": "64f2384f",
   "metadata": {},
   "source": [
    "## ADABoost"
   ]
  },
  {
   "cell_type": "code",
   "execution_count": 2,
   "id": "f46021ec",
   "metadata": {},
   "outputs": [],
   "source": [
    "from sklearn.ensemble import AdaBoostClassifier\n",
    "abc = AdaBoostClassifier()"
   ]
  },
  {
   "cell_type": "code",
   "execution_count": 6,
   "id": "6373f600",
   "metadata": {},
   "outputs": [
    {
     "data": {
      "text/plain": [
       "AdaBoostClassifier()"
      ]
     },
     "execution_count": 6,
     "metadata": {},
     "output_type": "execute_result"
    }
   ],
   "source": [
    "abc.fit(x_train,y_train_b)"
   ]
  },
  {
   "cell_type": "code",
   "execution_count": 7,
   "id": "c30bc21d",
   "metadata": {},
   "outputs": [
    {
     "data": {
      "text/plain": [
       "0.9892278504123899"
      ]
     },
     "execution_count": 7,
     "metadata": {},
     "output_type": "execute_result"
    }
   ],
   "source": [
    "abc.score(x_train,y_train_b)"
   ]
  },
  {
   "cell_type": "code",
   "execution_count": 8,
   "id": "119b8f50",
   "metadata": {},
   "outputs": [
    {
     "data": {
      "text/plain": [
       "0.7795865862313698"
      ]
     },
     "execution_count": 8,
     "metadata": {},
     "output_type": "execute_result"
    }
   ],
   "source": [
    "abc.score(x_test,y_test_b)"
   ]
  },
  {
   "cell_type": "code",
   "execution_count": 9,
   "id": "d0f726fd",
   "metadata": {},
   "outputs": [
    {
     "data": {
      "text/plain": [
       "0.5812658227848101"
      ]
     },
     "execution_count": 9,
     "metadata": {},
     "output_type": "execute_result"
    }
   ],
   "source": [
    "abc.score(x_test21,y_test21_b)"
   ]
  },
  {
   "cell_type": "code",
   "execution_count": null,
   "id": "24796eda",
   "metadata": {},
   "outputs": [],
   "source": []
  },
  {
   "cell_type": "code",
   "execution_count": null,
   "id": "026812c0",
   "metadata": {},
   "outputs": [],
   "source": []
  },
  {
   "cell_type": "code",
   "execution_count": null,
   "id": "b97800f0",
   "metadata": {},
   "outputs": [],
   "source": []
  },
  {
   "cell_type": "code",
   "execution_count": null,
   "id": "b9021058",
   "metadata": {},
   "outputs": [],
   "source": []
  },
  {
   "cell_type": "code",
   "execution_count": null,
   "id": "ec11f65a",
   "metadata": {},
   "outputs": [],
   "source": []
  },
  {
   "cell_type": "markdown",
   "id": "6ada9153",
   "metadata": {},
   "source": [
    "## CatBoost"
   ]
  },
  {
   "cell_type": "markdown",
   "id": "555c3fb1",
   "metadata": {},
   "source": [
    "## XGboost"
   ]
  },
  {
   "cell_type": "markdown",
   "id": "51b567d3",
   "metadata": {},
   "source": [
    "## SVM"
   ]
  },
  {
   "cell_type": "code",
   "execution_count": null,
   "id": "592adcd6",
   "metadata": {},
   "outputs": [],
   "source": []
  },
  {
   "cell_type": "code",
   "execution_count": null,
   "id": "71016d23",
   "metadata": {},
   "outputs": [],
   "source": []
  },
  {
   "cell_type": "code",
   "execution_count": null,
   "id": "3b08ec90",
   "metadata": {},
   "outputs": [],
   "source": []
  },
  {
   "cell_type": "code",
   "execution_count": null,
   "id": "cbf0b36a",
   "metadata": {},
   "outputs": [],
   "source": []
  },
  {
   "cell_type": "code",
   "execution_count": null,
   "id": "fc23c4f6",
   "metadata": {},
   "outputs": [],
   "source": []
  },
  {
   "cell_type": "code",
   "execution_count": null,
   "id": "8d7fcb47",
   "metadata": {},
   "outputs": [],
   "source": []
  },
  {
   "cell_type": "code",
   "execution_count": null,
   "id": "2d20e296",
   "metadata": {},
   "outputs": [],
   "source": []
  }
 ],
 "metadata": {
  "kernelspec": {
   "display_name": "Python 3 (ipykernel)",
   "language": "python",
   "name": "python3"
  },
  "language_info": {
   "codemirror_mode": {
    "name": "ipython",
    "version": 3
   },
   "file_extension": ".py",
   "mimetype": "text/x-python",
   "name": "python",
   "nbconvert_exporter": "python",
   "pygments_lexer": "ipython3",
   "version": "3.9.6"
  }
 },
 "nbformat": 4,
 "nbformat_minor": 5
}
