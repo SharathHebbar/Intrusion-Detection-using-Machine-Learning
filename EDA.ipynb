{
 "cells": [
  {
   "cell_type": "markdown",
   "id": "1110581e",
   "metadata": {},
   "source": [
    "### Importing libraries"
   ]
  },
  {
   "cell_type": "code",
   "execution_count": 2,
   "id": "0b80044d",
   "metadata": {},
   "outputs": [],
   "source": [
    "import numpy as np\n",
    "import pandas as pd\n",
    "import matplotlib.pyplot as plt\n",
    "import seaborn as sns"
   ]
  },
  {
   "cell_type": "markdown",
   "id": "86a3c2f4",
   "metadata": {},
   "source": [
    "### Loading the dataset"
   ]
  },
  {
   "cell_type": "code",
   "execution_count": 3,
   "id": "d02eb09a",
   "metadata": {},
   "outputs": [],
   "source": [
    "train_data = pd.read_csv('train_scaled_mod.csv')\n",
    "test_data = pd.read_csv('test_scaled_mod.csv')\n",
    "test21_data = pd.read_csv('test21_scaled_mod.csv')"
   ]
  },
  {
   "cell_type": "code",
   "execution_count": 4,
   "id": "2a1e2b95",
   "metadata": {},
   "outputs": [
    {
     "data": {
      "text/plain": [
       "((125973, 42), (22544, 42), (11850, 42))"
      ]
     },
     "execution_count": 4,
     "metadata": {},
     "output_type": "execute_result"
    }
   ],
   "source": [
    "train_data.shape,test_data.shape,test21_data.shape"
   ]
  },
  {
   "cell_type": "markdown",
   "id": "9e7af9be",
   "metadata": {},
   "source": [
    "### Data Visualization"
   ]
  },
  {
   "cell_type": "code",
   "execution_count": 7,
   "id": "623f928d",
   "metadata": {},
   "outputs": [
    {
     "data": {
      "text/plain": [
       "Index(['duration', 'src_bytes', 'dst_bytes', 'land', 'wrong_fragment',\n",
       "       'urgent', 'hot', 'num_failed_logins', 'logged_in', 'num_compromised',\n",
       "       'root_shell', 'su_attempted', 'num_root', 'num_file_creations',\n",
       "       'num_shells', 'num_access_files', 'num_outbound_cmds', 'is_host_login',\n",
       "       'is_guest_login', 'count', 'srv_count', 'serror_rate',\n",
       "       'srv_serror_rate', 'rerror_rate', 'srv_rerror_rate', 'same_srv_rate',\n",
       "       'diff_srv_rate', 'srv_diff_host_rate', 'dst_host_count',\n",
       "       'dst_host_srv_count', 'dst_host_same_srv_rate',\n",
       "       'dst_host_diff_srv_rate', 'dst_host_same_src_port_rate',\n",
       "       'dst_host_srv_diff_host_rate', 'dst_host_serror_rate',\n",
       "       'dst_host_srv_serror_rate', 'dst_host_rerror_rate',\n",
       "       'dst_host_srv_rerror_rate', 'protocol_type', 'service', 'flag',\n",
       "       'label'],\n",
       "      dtype='object')"
      ]
     },
     "execution_count": 7,
     "metadata": {},
     "output_type": "execute_result"
    }
   ],
   "source": [
    "train_data.columns"
   ]
  },
  {
   "cell_type": "code",
   "execution_count": 19,
   "id": "219f7dd8",
   "metadata": {},
   "outputs": [],
   "source": [
    "from scipy.stats import pearsonr"
   ]
  },
  {
   "cell_type": "code",
   "execution_count": 36,
   "id": "37afe290",
   "metadata": {},
   "outputs": [],
   "source": [
    "x = train_data.dst_host_srv_rerror_rate\n",
    "y = train_data.dst_host_rerror_rate\n"
   ]
  },
  {
   "cell_type": "code",
   "execution_count": 37,
   "id": "04f7bc22",
   "metadata": {},
   "outputs": [
    {
     "data": {
      "text/plain": [
       "0.9246878915783014"
      ]
     },
     "execution_count": 37,
     "metadata": {},
     "output_type": "execute_result"
    }
   ],
   "source": [
    "corr, _ = pearsonr(x, y)\n",
    "corr"
   ]
  },
  {
   "cell_type": "code",
   "execution_count": 28,
   "id": "82232d2c",
   "metadata": {},
   "outputs": [],
   "source": [
    "x1 = train_data.dst_host_serror_rate\n",
    "y1 = train_data.dst_host_srv_serror_rate"
   ]
  },
  {
   "cell_type": "code",
   "execution_count": 29,
   "id": "4c896ea3",
   "metadata": {},
   "outputs": [
    {
     "data": {
      "text/plain": [
       "0.9850522227993574"
      ]
     },
     "execution_count": 29,
     "metadata": {},
     "output_type": "execute_result"
    }
   ],
   "source": [
    "corr1, _1 = pearsonr(x1, y1)\n",
    "corr1"
   ]
  },
  {
   "cell_type": "code",
   "execution_count": 31,
   "id": "e13d9149",
   "metadata": {},
   "outputs": [],
   "source": [
    "x2 = train_data.dst_host_srv_count\n",
    "y2 = train_data.dst_host_same_srv_rate"
   ]
  },
  {
   "cell_type": "code",
   "execution_count": 32,
   "id": "f5992111",
   "metadata": {},
   "outputs": [
    {
     "data": {
      "text/plain": [
       "0.8966634699358387"
      ]
     },
     "execution_count": 32,
     "metadata": {},
     "output_type": "execute_result"
    }
   ],
   "source": [
    "corr2, _2 = pearsonr(x2, y2)\n",
    "corr2"
   ]
  },
  {
   "cell_type": "code",
   "execution_count": 34,
   "id": "94800228",
   "metadata": {},
   "outputs": [
    {
     "data": {
      "text/plain": [
       "0.9047445988441789"
      ]
     },
     "execution_count": 34,
     "metadata": {},
     "output_type": "execute_result"
    }
   ],
   "source": [
    "x = test_data.dst_host_srv_rerror_rate\n",
    "y = test_data.dst_host_rerror_rate\n",
    "corr, _ = pearsonr(x, y)\n",
    "corr"
   ]
  },
  {
   "cell_type": "code",
   "execution_count": 38,
   "id": "d03a6f1e",
   "metadata": {},
   "outputs": [
    {
     "data": {
      "text/plain": [
       "0.9450161766415458"
      ]
     },
     "execution_count": 38,
     "metadata": {},
     "output_type": "execute_result"
    }
   ],
   "source": [
    "x1 = test_data.dst_host_serror_rate\n",
    "y1 = test_data.dst_host_srv_serror_rate\n",
    "corr1, _1 = pearsonr(x1, y1)\n",
    "corr1"
   ]
  },
  {
   "cell_type": "code",
   "execution_count": 39,
   "id": "cf478e8d",
   "metadata": {},
   "outputs": [
    {
     "data": {
      "text/plain": [
       "0.9043602221365536"
      ]
     },
     "execution_count": 39,
     "metadata": {},
     "output_type": "execute_result"
    }
   ],
   "source": [
    "x2 = test_data.dst_host_srv_count\n",
    "y2 = test_data.dst_host_same_srv_rate\n",
    "corr2, _2 = pearsonr(x2, y2)\n",
    "corr2"
   ]
  },
  {
   "cell_type": "code",
   "execution_count": 40,
   "id": "ab1cf062",
   "metadata": {},
   "outputs": [
    {
     "data": {
      "text/plain": [
       "0.8260900321691295"
      ]
     },
     "execution_count": 40,
     "metadata": {},
     "output_type": "execute_result"
    }
   ],
   "source": [
    "x = test21_data.dst_host_srv_rerror_rate\n",
    "y = test21_data.dst_host_rerror_rate\n",
    "corr, _ = pearsonr(x, y)\n",
    "corr"
   ]
  },
  {
   "cell_type": "code",
   "execution_count": 42,
   "id": "d08593a9",
   "metadata": {},
   "outputs": [
    {
     "data": {
      "text/plain": [
       "0.9097919654264213"
      ]
     },
     "execution_count": 42,
     "metadata": {},
     "output_type": "execute_result"
    }
   ],
   "source": [
    "x1 = test21_data.dst_host_serror_rate\n",
    "y1 = test21_data.dst_host_srv_serror_rate\n",
    "corr1, _1 = pearsonr(x1, y1)\n",
    "corr1"
   ]
  },
  {
   "cell_type": "code",
   "execution_count": 43,
   "id": "404b1b3f",
   "metadata": {},
   "outputs": [
    {
     "data": {
      "text/plain": [
       "0.852368312701304"
      ]
     },
     "execution_count": 43,
     "metadata": {},
     "output_type": "execute_result"
    }
   ],
   "source": [
    "x2 = test21_data.dst_host_srv_count\n",
    "y2 = test21_data.dst_host_same_srv_rate\n",
    "corr2, _2 = pearsonr(x2, y2)\n",
    "corr2"
   ]
  },
  {
   "cell_type": "code",
   "execution_count": null,
   "id": "8e08384c",
   "metadata": {},
   "outputs": [],
   "source": []
  },
  {
   "cell_type": "code",
   "execution_count": null,
   "id": "65ae7b65",
   "metadata": {},
   "outputs": [],
   "source": []
  },
  {
   "cell_type": "code",
   "execution_count": null,
   "id": "7d073efc",
   "metadata": {},
   "outputs": [],
   "source": []
  },
  {
   "cell_type": "code",
   "execution_count": null,
   "id": "4c3a2d99",
   "metadata": {},
   "outputs": [],
   "source": []
  },
  {
   "cell_type": "code",
   "execution_count": null,
   "id": "5f5a8a21",
   "metadata": {},
   "outputs": [],
   "source": []
  },
  {
   "cell_type": "code",
   "execution_count": null,
   "id": "a963a4e8",
   "metadata": {},
   "outputs": [],
   "source": []
  },
  {
   "cell_type": "code",
   "execution_count": null,
   "id": "fe1757d9",
   "metadata": {},
   "outputs": [],
   "source": []
  },
  {
   "cell_type": "code",
   "execution_count": null,
   "id": "ba855277",
   "metadata": {},
   "outputs": [],
   "source": []
  },
  {
   "cell_type": "code",
   "execution_count": null,
   "id": "f4204227",
   "metadata": {},
   "outputs": [],
   "source": []
  },
  {
   "cell_type": "code",
   "execution_count": null,
   "id": "de801f48",
   "metadata": {},
   "outputs": [],
   "source": []
  },
  {
   "cell_type": "code",
   "execution_count": null,
   "id": "2998a3b0",
   "metadata": {},
   "outputs": [],
   "source": []
  },
  {
   "cell_type": "code",
   "execution_count": null,
   "id": "86441979",
   "metadata": {},
   "outputs": [],
   "source": []
  },
  {
   "cell_type": "code",
   "execution_count": null,
   "id": "e21d09f1",
   "metadata": {},
   "outputs": [],
   "source": []
  },
  {
   "cell_type": "code",
   "execution_count": null,
   "id": "d991bd56",
   "metadata": {},
   "outputs": [],
   "source": []
  },
  {
   "cell_type": "code",
   "execution_count": null,
   "id": "7c583f08",
   "metadata": {},
   "outputs": [],
   "source": []
  }
 ],
 "metadata": {
  "kernelspec": {
   "display_name": "Python 3 (ipykernel)",
   "language": "python",
   "name": "python3"
  },
  "language_info": {
   "codemirror_mode": {
    "name": "ipython",
    "version": 3
   },
   "file_extension": ".py",
   "mimetype": "text/x-python",
   "name": "python",
   "nbconvert_exporter": "python",
   "pygments_lexer": "ipython3",
   "version": "3.9.6"
  }
 },
 "nbformat": 4,
 "nbformat_minor": 5
}
